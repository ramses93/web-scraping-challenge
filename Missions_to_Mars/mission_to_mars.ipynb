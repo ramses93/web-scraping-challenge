{
 "cells": [
  {
   "cell_type": "code",
   "execution_count": 59,
   "id": "88705870",
   "metadata": {},
   "outputs": [],
   "source": [
    "from bs4 import BeautifulSoup as bs\n",
    "import requests\n",
    "import pymongo\n",
    "from splinter import Browser\n",
    "from flask import Flask, render_template, redirect\n",
    "from flask_pymongo import PyMongo\n",
    "import pandas as pd"
   ]
  },
  {
   "cell_type": "markdown",
   "id": "82b2114b",
   "metadata": {},
   "source": [
    "# Load Browser"
   ]
  },
  {
   "cell_type": "code",
   "execution_count": 66,
   "id": "468b54c4",
   "metadata": {},
   "outputs": [],
   "source": [
    "executable_path = {'executable_path': 'chromedriver'}\n",
    "browser = Browser('chrome', **executable_path, headless=False)"
   ]
  },
  {
   "cell_type": "markdown",
   "id": "392bcc5d",
   "metadata": {},
   "source": [
    "# Define here the URL to scrape"
   ]
  },
  {
   "cell_type": "code",
   "execution_count": 67,
   "id": "c06731b3",
   "metadata": {},
   "outputs": [],
   "source": [
    "url = \"https://mars.nasa.gov/news/?page=0&per_page=40&order=publish_date+desc%2Ccreated_at+desc&search=&category=19%2C165%2C184%2C204&blank_scope=Latest\""
   ]
  },
  {
   "cell_type": "markdown",
   "id": "413b7f77",
   "metadata": {},
   "source": [
    "# Get HTML Code from URL"
   ]
  },
  {
   "cell_type": "code",
   "execution_count": 68,
   "id": "2e46af16",
   "metadata": {},
   "outputs": [],
   "source": [
    "page = requests.get(url)"
   ]
  },
  {
   "cell_type": "markdown",
   "id": "420bab65",
   "metadata": {},
   "source": [
    "# Convert to BeautifulSoup object"
   ]
  },
  {
   "cell_type": "code",
   "execution_count": 69,
   "id": "5e605a79",
   "metadata": {},
   "outputs": [],
   "source": [
    "soup = BeautifulSoup(page.content, 'html.parser')"
   ]
  },
  {
   "cell_type": "markdown",
   "id": "63ec1e27",
   "metadata": {},
   "source": [
    "# Collect latest Title and Text"
   ]
  },
  {
   "cell_type": "code",
   "execution_count": 70,
   "id": "bf74ec40",
   "metadata": {},
   "outputs": [
    {
     "name": "stdout",
     "output_type": "stream",
     "text": [
      "\n",
      "\n",
      "NASA's Perseverance Team Assessing First Mars Sampling Attempt\n",
      "\n",
      "\n",
      "\n",
      "The rover continues to explore Jezero Crater while the team assesses today’s activities.\n",
      "\n"
     ]
    }
   ],
   "source": [
    "result = soup.find_all(\"div\", {'class': 'content_title'})\n",
    "news_title = result[0].text\n",
    "\n",
    "result = soup.find_all('div', class_='rollover_description_inner')\n",
    "news_p = result[0].text\n",
    "\n",
    "print(news_title)\n",
    "print(news_p)"
   ]
  },
  {
   "cell_type": "markdown",
   "id": "06b4878b",
   "metadata": {},
   "source": [
    "# NASA's JPL Mars Images - Get Featured Image"
   ]
  },
  {
   "cell_type": "markdown",
   "id": "0b6eb265",
   "metadata": {},
   "source": [
    "### NOTE: This part could not be completed  because NASA's JPL site throws \"Not Found\" error"
   ]
  },
  {
   "cell_type": "code",
   "execution_count": null,
   "id": "4260d689",
   "metadata": {},
   "outputs": [],
   "source": []
  },
  {
   "cell_type": "markdown",
   "id": "1277c4bb",
   "metadata": {},
   "source": [
    "# Mars Facts"
   ]
  },
  {
   "cell_type": "code",
   "execution_count": 74,
   "id": "6e190184",
   "metadata": {
    "scrolled": true
   },
   "outputs": [
    {
     "name": "stdout",
     "output_type": "stream",
     "text": [
      "[                      0                              1\n",
      "0  Equatorial Diameter:                       6,792 km\n",
      "1       Polar Diameter:                       6,752 km\n",
      "2                 Mass:  6.39 × 10^23 kg (0.11 Earths)\n",
      "3                Moons:            2 (Phobos & Deimos)\n",
      "4       Orbit Distance:       227,943,824 km (1.38 AU)\n",
      "5         Orbit Period:           687 days (1.9 years)\n",
      "6  Surface Temperature:                   -87 to -5 °C\n",
      "7         First Record:              2nd millennium BC\n",
      "8          Recorded By:           Egyptian astronomers,   Mars - Earth Comparison             Mars            Earth\n",
      "0               Diameter:         6,779 km        12,742 km\n",
      "1                   Mass:  6.39 × 10^23 kg  5.97 × 10^24 kg\n",
      "2                  Moons:                2                1\n",
      "3      Distance from Sun:   227,943,824 km   149,598,262 km\n",
      "4         Length of Year:   687 Earth days      365.24 days\n",
      "5            Temperature:     -87 to -5 °C      -88 to 58°C,                       0                              1\n",
      "0  Equatorial Diameter:                       6,792 km\n",
      "1       Polar Diameter:                       6,752 km\n",
      "2                 Mass:  6.39 × 10^23 kg (0.11 Earths)\n",
      "3                Moons:            2 (Phobos & Deimos)\n",
      "4       Orbit Distance:       227,943,824 km (1.38 AU)\n",
      "5         Orbit Period:           687 days (1.9 years)\n",
      "6  Surface Temperature:                   -87 to -5 °C\n",
      "7         First Record:              2nd millennium BC\n",
      "8          Recorded By:           Egyptian astronomers]\n"
     ]
    }
   ],
   "source": [
    "url='https://space-facts.com/mars/'\n",
    "\n",
    "# get tables using Pandas\n",
    "tables=pd.read_html(url)\n",
    "print(tables)"
   ]
  },
  {
   "cell_type": "markdown",
   "id": "a4146f83",
   "metadata": {},
   "source": [
    "### Show the table in table format"
   ]
  },
  {
   "cell_type": "code",
   "execution_count": 81,
   "id": "6f48ff6e",
   "metadata": {},
   "outputs": [
    {
     "data": {
      "text/html": [
       "<div>\n",
       "<style scoped>\n",
       "    .dataframe tbody tr th:only-of-type {\n",
       "        vertical-align: middle;\n",
       "    }\n",
       "\n",
       "    .dataframe tbody tr th {\n",
       "        vertical-align: top;\n",
       "    }\n",
       "\n",
       "    .dataframe thead th {\n",
       "        text-align: right;\n",
       "    }\n",
       "</style>\n",
       "<table border=\"1\" class=\"dataframe\">\n",
       "  <thead>\n",
       "    <tr style=\"text-align: right;\">\n",
       "      <th></th>\n",
       "      <th>Parameter</th>\n",
       "      <th>Value</th>\n",
       "    </tr>\n",
       "  </thead>\n",
       "  <tbody>\n",
       "    <tr>\n",
       "      <th>0</th>\n",
       "      <td>Equatorial Diameter:</td>\n",
       "      <td>6,792 km</td>\n",
       "    </tr>\n",
       "    <tr>\n",
       "      <th>1</th>\n",
       "      <td>Polar Diameter:</td>\n",
       "      <td>6,752 km</td>\n",
       "    </tr>\n",
       "    <tr>\n",
       "      <th>2</th>\n",
       "      <td>Mass:</td>\n",
       "      <td>6.39 × 10^23 kg (0.11 Earths)</td>\n",
       "    </tr>\n",
       "    <tr>\n",
       "      <th>3</th>\n",
       "      <td>Moons:</td>\n",
       "      <td>2 (Phobos &amp; Deimos)</td>\n",
       "    </tr>\n",
       "    <tr>\n",
       "      <th>4</th>\n",
       "      <td>Orbit Distance:</td>\n",
       "      <td>227,943,824 km (1.38 AU)</td>\n",
       "    </tr>\n",
       "    <tr>\n",
       "      <th>5</th>\n",
       "      <td>Orbit Period:</td>\n",
       "      <td>687 days (1.9 years)</td>\n",
       "    </tr>\n",
       "    <tr>\n",
       "      <th>6</th>\n",
       "      <td>Surface Temperature:</td>\n",
       "      <td>-87 to -5 °C</td>\n",
       "    </tr>\n",
       "    <tr>\n",
       "      <th>7</th>\n",
       "      <td>First Record:</td>\n",
       "      <td>2nd millennium BC</td>\n",
       "    </tr>\n",
       "    <tr>\n",
       "      <th>8</th>\n",
       "      <td>Recorded By:</td>\n",
       "      <td>Egyptian astronomers</td>\n",
       "    </tr>\n",
       "  </tbody>\n",
       "</table>\n",
       "</div>"
      ],
      "text/plain": [
       "              Parameter                          Value\n",
       "0  Equatorial Diameter:                       6,792 km\n",
       "1       Polar Diameter:                       6,752 km\n",
       "2                 Mass:  6.39 × 10^23 kg (0.11 Earths)\n",
       "3                Moons:            2 (Phobos & Deimos)\n",
       "4       Orbit Distance:       227,943,824 km (1.38 AU)\n",
       "5         Orbit Period:           687 days (1.9 years)\n",
       "6  Surface Temperature:                   -87 to -5 °C\n",
       "7         First Record:              2nd millennium BC\n",
       "8          Recorded By:           Egyptian astronomers"
      ]
     },
     "execution_count": 81,
     "metadata": {},
     "output_type": "execute_result"
    }
   ],
   "source": [
    "table = tables[0]\n",
    "\n",
    "# Set column names\n",
    "table = table.rename(columns={0:'Parameter',1:'Value'})\n",
    "table"
   ]
  },
  {
   "cell_type": "markdown",
   "id": "b2b55094",
   "metadata": {},
   "source": [
    "# Mars Hemispheres"
   ]
  },
  {
   "cell_type": "code",
   "execution_count": 88,
   "id": "268acac1",
   "metadata": {},
   "outputs": [],
   "source": [
    "main_url ='https://astrogeology.usgs.gov/'\n",
    "url='https://astrogeology.usgs.gov/search/results?q=hemisphere+enhanced&k1=target&v1=Mars'\n",
    "\n",
    "# Visit\n",
    "browser.visit(url)\n",
    "\n",
    "# Get HTML\n",
    "html = browser.html\n",
    "\n",
    "# Parse HTML\n",
    "soup = bs(html,'html.parser')\n",
    "\n",
    "# get hemispheres \n",
    "hemispheres = soup.find('div', {'class':'collapsible results'})\n",
    "hemispheres = hemispheres.find_all('div', {'class':'item'})\n",
    "\n",
    "hemisphere_image_urls = list() # store urls here\n",
    "\n",
    "for obj in hemispheres:\n",
    "    hemisphere = obj.find('div', {'class':'description'})\n",
    "    title = hemisphere.h3.text\n",
    "    \n",
    "    sub_url = hemisphere.a['href']\n",
    "    \n",
    "    # Visit image's url\n",
    "    browser.visit(main_url+sub_url)\n",
    "    \n",
    "    # get html\n",
    "    html = browser.html\n",
    "    \n",
    "    # Parse\n",
    "    soup = bs(html, 'html.parser')\n",
    "    \n",
    "    # Get image's url\n",
    "    image_url = soup.find('li').a['href']\n",
    "    \n",
    "    # add to list\n",
    "    sub_dict = {'title': title, 'img_url': image_url}\n",
    "    hemisphere_image_urls.append(sub_dict)\n",
    "    \n"
   ]
  },
  {
   "cell_type": "code",
   "execution_count": 89,
   "id": "d46711cc",
   "metadata": {},
   "outputs": [
    {
     "data": {
      "text/plain": [
       "[{'title': 'Cerberus Hemisphere Enhanced',\n",
       "  'img_url': 'https://astropedia.astrogeology.usgs.gov/download/Mars/Viking/cerberus_enhanced.tif/full.jpg'},\n",
       " {'title': 'Schiaparelli Hemisphere Enhanced',\n",
       "  'img_url': 'https://astropedia.astrogeology.usgs.gov/download/Mars/Viking/schiaparelli_enhanced.tif/full.jpg'},\n",
       " {'title': 'Syrtis Major Hemisphere Enhanced',\n",
       "  'img_url': 'https://astropedia.astrogeology.usgs.gov/download/Mars/Viking/syrtis_major_enhanced.tif/full.jpg'},\n",
       " {'title': 'Valles Marineris Hemisphere Enhanced',\n",
       "  'img_url': 'https://astropedia.astrogeology.usgs.gov/download/Mars/Viking/valles_marineris_enhanced.tif/full.jpg'}]"
      ]
     },
     "execution_count": 89,
     "metadata": {},
     "output_type": "execute_result"
    }
   ],
   "source": [
    "# Display\n",
    "hemisphere_image_urls"
   ]
  },
  {
   "cell_type": "code",
   "execution_count": 90,
   "id": "12e9e48e",
   "metadata": {},
   "outputs": [],
   "source": [
    "browser.quit()"
   ]
  },
  {
   "cell_type": "code",
   "execution_count": null,
   "id": "f3803dfc",
   "metadata": {},
   "outputs": [],
   "source": []
  }
 ],
 "metadata": {
  "kernelspec": {
   "display_name": "Python 3",
   "language": "python",
   "name": "python3"
  },
  "language_info": {
   "codemirror_mode": {
    "name": "ipython",
    "version": 3
   },
   "file_extension": ".py",
   "mimetype": "text/x-python",
   "name": "python",
   "nbconvert_exporter": "python",
   "pygments_lexer": "ipython3",
   "version": "3.7.3"
  }
 },
 "nbformat": 4,
 "nbformat_minor": 5
}
