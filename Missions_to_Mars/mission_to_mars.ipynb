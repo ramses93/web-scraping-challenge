{
 "cells": [
  {
   "cell_type": "code",
   "execution_count": 59,
   "id": "3d057b9e",
   "metadata": {},
   "outputs": [],
   "source": [
    "from bs4 import BeautifulSoup as bs\n",
    "import requests\n",
    "import pymongo\n",
    "from splinter import Browser\n",
    "from flask import Flask, render_template, redirect\n",
    "from flask_pymongo import PyMongo\n",
    "import pandas as pd"
   ]
  },
  {
   "cell_type": "markdown",
   "id": "f4669f90",
   "metadata": {},
   "source": [
    "# Load Browser"
   ]
  },
  {
   "cell_type": "code",
   "execution_count": 66,
   "id": "ee7fceea",
   "metadata": {},
   "outputs": [],
   "source": [
    "executable_path = {'executable_path': 'chromedriver'}\n",
    "browser = Browser('chrome', **executable_path, headless=False)"
   ]
  },
  {
   "cell_type": "markdown",
   "id": "44a3d38d",
   "metadata": {},
   "source": [
    "# Define here the URL to scrape"
   ]
  },
  {
   "cell_type": "code",
   "execution_count": 67,
   "id": "2cba29d9",
   "metadata": {},
   "outputs": [],
   "source": [
    "url = \"https://mars.nasa.gov/news/?page=0&per_page=40&order=publish_date+desc%2Ccreated_at+desc&search=&category=19%2C165%2C184%2C204&blank_scope=Latest\""
   ]
  },
  {
   "cell_type": "markdown",
   "id": "4ef9b8ab",
   "metadata": {},
   "source": [
    "# Get HTML Code from URL"
   ]
  },
  {
   "cell_type": "code",
   "execution_count": 68,
   "id": "7cb71a41",
   "metadata": {},
   "outputs": [],
   "source": [
    "page = requests.get(url)"
   ]
  },
  {
   "cell_type": "markdown",
   "id": "e3ea4d5e",
   "metadata": {},
   "source": [
    "# Convert to BeautifulSoup object"
   ]
  },
  {
   "cell_type": "code",
   "execution_count": 69,
   "id": "5c0947bb",
   "metadata": {},
   "outputs": [],
   "source": [
    "soup = BeautifulSoup(page.content, 'html.parser')"
   ]
  },
  {
   "cell_type": "markdown",
   "id": "5bce2c1e",
   "metadata": {},
   "source": [
    "# Collect latest Title and Text"
   ]
  },
  {
   "cell_type": "code",
   "execution_count": 70,
   "id": "0329af97",
   "metadata": {},
   "outputs": [
    {
     "name": "stdout",
     "output_type": "stream",
     "text": [
      "\n",
      "\n",
      "NASA's Perseverance Team Assessing First Mars Sampling Attempt\n",
      "\n",
      "\n",
      "\n",
      "The rover continues to explore Jezero Crater while the team assesses today’s activities.\n",
      "\n"
     ]
    }
   ],
   "source": [
    "result = soup.find_all(\"div\", {'class': 'content_title'})\n",
    "news_title = result[0].text\n",
    "\n",
    "result = soup.find_all('div', class_='rollover_description_inner')\n",
    "news_p = result[0].text\n",
    "\n",
    "print(news_title)\n",
    "print(news_p)"
   ]
  },
  {
   "cell_type": "markdown",
   "id": "92e22d1e",
   "metadata": {},
   "source": [
    "# NASA's JPL Mars Images - Get Featured Image"
   ]
  },
  {
   "cell_type": "code",
   "execution_count": 55,
   "id": "c3b8326c",
   "metadata": {},
   "outputs": [
    {
     "data": {
      "text/plain": [
       "'\\nThe rover continues to explore Jezero Crater while the team assesses today’s activities.\\n'"
      ]
     },
     "execution_count": 55,
     "metadata": {},
     "output_type": "execute_result"
    }
   ],
   "source": [
    "url = "
   ]
  },
  {
   "cell_type": "code",
   "execution_count": null,
   "id": "e1e83081",
   "metadata": {},
   "outputs": [],
   "source": []
  }
 ],
 "metadata": {
  "kernelspec": {
   "display_name": "Python 3",
   "language": "python",
   "name": "python3"
  },
  "language_info": {
   "codemirror_mode": {
    "name": "ipython",
    "version": 3
   },
   "file_extension": ".py",
   "mimetype": "text/x-python",
   "name": "python",
   "nbconvert_exporter": "python",
   "pygments_lexer": "ipython3",
   "version": "3.7.3"
  }
 },
 "nbformat": 4,
 "nbformat_minor": 5
}
