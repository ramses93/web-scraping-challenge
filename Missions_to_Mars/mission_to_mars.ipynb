{
 "cells": [
  {
   "cell_type": "code",
   "execution_count": 59,
   "id": "6209bf84",
   "metadata": {},
   "outputs": [],
   "source": [
    "from bs4 import BeautifulSoup as bs\n",
    "import requests\n",
    "import pymongo\n",
    "from splinter import Browser\n",
    "from flask import Flask, render_template, redirect\n",
    "from flask_pymongo import PyMongo\n",
    "import pandas as pd"
   ]
  },
  {
   "cell_type": "markdown",
   "id": "94301e4c",
   "metadata": {},
   "source": [
    "# Load Browser"
   ]
  },
  {
   "cell_type": "code",
   "execution_count": 66,
   "id": "66d42edb",
   "metadata": {},
   "outputs": [],
   "source": [
    "executable_path = {'executable_path': 'chromedriver'}\n",
    "browser = Browser('chrome', **executable_path, headless=False)"
   ]
  },
  {
   "cell_type": "markdown",
   "id": "092604c5",
   "metadata": {},
   "source": [
    "# Define here the URL to scrape"
   ]
  },
  {
   "cell_type": "code",
   "execution_count": 67,
   "id": "d5434873",
   "metadata": {},
   "outputs": [],
   "source": [
    "url = \"https://mars.nasa.gov/news/?page=0&per_page=40&order=publish_date+desc%2Ccreated_at+desc&search=&category=19%2C165%2C184%2C204&blank_scope=Latest\""
   ]
  },
  {
   "cell_type": "markdown",
   "id": "8a438de7",
   "metadata": {},
   "source": [
    "# Get HTML Code from URL"
   ]
  },
  {
   "cell_type": "code",
   "execution_count": 68,
   "id": "4d32697d",
   "metadata": {},
   "outputs": [],
   "source": [
    "page = requests.get(url)"
   ]
  },
  {
   "cell_type": "markdown",
   "id": "414a9e96",
   "metadata": {},
   "source": [
    "# Convert to BeautifulSoup object"
   ]
  },
  {
   "cell_type": "code",
   "execution_count": 69,
   "id": "6a9f6329",
   "metadata": {},
   "outputs": [],
   "source": [
    "soup = BeautifulSoup(page.content, 'html.parser')"
   ]
  },
  {
   "cell_type": "markdown",
   "id": "76d29544",
   "metadata": {},
   "source": [
    "# Collect latest Title and Text"
   ]
  },
  {
   "cell_type": "code",
   "execution_count": 70,
   "id": "71eb871b",
   "metadata": {},
   "outputs": [
    {
     "name": "stdout",
     "output_type": "stream",
     "text": [
      "\n",
      "\n",
      "NASA's Perseverance Team Assessing First Mars Sampling Attempt\n",
      "\n",
      "\n",
      "\n",
      "The rover continues to explore Jezero Crater while the team assesses today’s activities.\n",
      "\n"
     ]
    }
   ],
   "source": [
    "result = soup.find_all(\"div\", {'class': 'content_title'})\n",
    "news_title = result[0].text\n",
    "\n",
    "result = soup.find_all('div', class_='rollover_description_inner')\n",
    "news_p = result[0].text\n",
    "\n",
    "print(news_title)\n",
    "print(news_p)"
   ]
  },
  {
   "cell_type": "markdown",
   "id": "86578d2c",
   "metadata": {},
   "source": [
    "# NASA's JPL Mars Images - Get Featured Image"
   ]
  },
  {
   "cell_type": "markdown",
   "id": "9de0dee5",
   "metadata": {},
   "source": [
    "### NOTE: This part could not be completed  because NASA's JPL site throws \"Not Found\" error"
   ]
  },
  {
   "cell_type": "markdown",
   "id": "7494d567",
   "metadata": {},
   "source": []
  },
  {
   "cell_type": "code",
   "execution_count": null,
   "id": "17cbfacf",
   "metadata": {},
   "outputs": [],
   "source": []
  }
 ],
 "metadata": {
  "kernelspec": {
   "display_name": "Python 3",
   "language": "python",
   "name": "python3"
  },
  "language_info": {
   "codemirror_mode": {
    "name": "ipython",
    "version": 3
   },
   "file_extension": ".py",
   "mimetype": "text/x-python",
   "name": "python",
   "nbconvert_exporter": "python",
   "pygments_lexer": "ipython3",
   "version": "3.7.3"
  }
 },
 "nbformat": 4,
 "nbformat_minor": 5
}
